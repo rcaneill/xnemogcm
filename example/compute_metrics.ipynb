{
 "cells": [
  {
   "cell_type": "code",
   "execution_count": 1,
   "id": "9975d773-21bd-40e2-8795-38e70753bd05",
   "metadata": {
    "execution": {
     "iopub.execute_input": "2023-03-30T10:01:47.302229Z",
     "iopub.status.busy": "2023-03-30T10:01:47.301586Z",
     "iopub.status.idle": "2023-03-30T10:01:47.876472Z",
     "shell.execute_reply": "2023-03-30T10:01:47.875839Z"
    },
    "tags": []
   },
   "outputs": [],
   "source": [
    "from pathlib import Path\n",
    "\n",
    "from xnemogcm import open_nemo_and_domain_cfg\n",
    "from xnemogcm.metrics import compute_missing_metrics\n",
    "from xnemogcm import __version__ as xnemogcm_version"
   ]
  },
  {
   "cell_type": "code",
   "execution_count": 2,
   "id": "f4d1aa0c-e02a-4999-aaeb-88cdf14a8adf",
   "metadata": {
    "execution": {
     "iopub.execute_input": "2023-03-30T10:01:47.879685Z",
     "iopub.status.busy": "2023-03-30T10:01:47.879154Z",
     "iopub.status.idle": "2023-03-30T10:01:47.883920Z",
     "shell.execute_reply": "2023-03-30T10:01:47.883181Z"
    },
    "tags": []
   },
   "outputs": [
    {
     "name": "stdout",
     "output_type": "stream",
     "text": [
      "0.4.1\n"
     ]
    }
   ],
   "source": [
    "print(xnemogcm_version)"
   ]
  },
  {
   "cell_type": "code",
   "execution_count": 3,
   "id": "3d452d15-99de-4dda-a18b-907cace8688a",
   "metadata": {
    "execution": {
     "iopub.execute_input": "2023-03-30T10:01:47.886306Z",
     "iopub.status.busy": "2023-03-30T10:01:47.885945Z",
     "iopub.status.idle": "2023-03-30T10:01:47.889436Z",
     "shell.execute_reply": "2023-03-30T10:01:47.888935Z"
    },
    "tags": []
   },
   "outputs": [],
   "source": [
    "datadir = Path('../xnemogcm/test/data/4.2.0/open_and_merge/')"
   ]
  },
  {
   "cell_type": "code",
   "execution_count": 4,
   "id": "51096969-6558-493c-95ae-e3b82b57cb02",
   "metadata": {
    "execution": {
     "iopub.execute_input": "2023-03-30T10:01:47.891600Z",
     "iopub.status.busy": "2023-03-30T10:01:47.891220Z",
     "iopub.status.idle": "2023-03-30T10:01:48.352103Z",
     "shell.execute_reply": "2023-03-30T10:01:48.351460Z"
    },
    "tags": []
   },
   "outputs": [
    {
     "name": "stdout",
     "output_type": "stream",
     "text": [
      "<xarray.Dataset>\n",
      "Dimensions:               (z_c: 4, axis_nbounds: 2, t: 1, y_c: 22, x_c: 32,\n",
      "                           x_f: 32, y_f: 22, z_f: 4)\n",
      "Coordinates: (12/20)\n",
      "  * z_c                   (z_c) int64 0 1 2 3\n",
      "    time_centered         (t) object dask.array<chunksize=(1,), meta=np.ndarray>\n",
      "  * t                     (t) object 0001-07-01 00:00:00\n",
      "  * x_c                   (x_c) int64 0 1 2 3 4 5 6 7 ... 25 26 27 28 29 30 31\n",
      "  * y_c                   (y_c) int64 0 1 2 3 4 5 6 7 ... 15 16 17 18 19 20 21\n",
      "    gdept_1d              (z_c) float64 dask.array<chunksize=(4,), meta=np.ndarray>\n",
      "    ...                    ...\n",
      "    gphit                 (y_c, x_c) float64 dask.array<chunksize=(22, 32), meta=np.ndarray>\n",
      "    gphiu                 (y_c, x_f) float64 dask.array<chunksize=(22, 32), meta=np.ndarray>\n",
      "    gphiv                 (y_f, x_c) float64 dask.array<chunksize=(22, 32), meta=np.ndarray>\n",
      "    gphif                 (y_f, x_f) float64 dask.array<chunksize=(22, 32), meta=np.ndarray>\n",
      "    gdept_0               (z_c, y_c, x_c) float64 dask.array<chunksize=(4, 22, 32), meta=np.ndarray>\n",
      "    gdepw_0               (z_f, y_c, x_c) float64 dask.array<chunksize=(4, 22, 32), meta=np.ndarray>\n",
      "Dimensions without coordinates: axis_nbounds\n",
      "Data variables: (12/43)\n",
      "    deptht_bounds         (z_c, axis_nbounds) float32 dask.array<chunksize=(4, 2), meta=np.ndarray>\n",
      "    time_centered_bounds  (t, axis_nbounds) object dask.array<chunksize=(1, 2), meta=np.ndarray>\n",
      "    t_bounds              (t, axis_nbounds) object dask.array<chunksize=(1, 2), meta=np.ndarray>\n",
      "    toce                  (t, z_c, y_c, x_c) float32 dask.array<chunksize=(1, 4, 22, 32), meta=np.ndarray>\n",
      "    soce                  (t, z_c, y_c, x_c) float32 dask.array<chunksize=(1, 4, 22, 32), meta=np.ndarray>\n",
      "    e3t                   (t, z_c, y_c, x_c) float32 dask.array<chunksize=(1, 4, 22, 32), meta=np.ndarray>\n",
      "    ...                    ...\n",
      "    e3u_0                 (z_c, y_c, x_f) float64 dask.array<chunksize=(4, 22, 32), meta=np.ndarray>\n",
      "    e3v_0                 (z_c, y_f, x_c) float64 dask.array<chunksize=(4, 22, 32), meta=np.ndarray>\n",
      "    e3f_0                 (z_c, y_f, x_f) float64 dask.array<chunksize=(4, 22, 32), meta=np.ndarray>\n",
      "    e3w_0                 (z_f, y_c, x_c) float64 dask.array<chunksize=(4, 22, 32), meta=np.ndarray>\n",
      "    e3uw_0                (z_f, y_c, x_f) float64 dask.array<chunksize=(4, 22, 32), meta=np.ndarray>\n",
      "    e3vw_0                (z_f, y_f, x_c) float64 dask.array<chunksize=(4, 22, 32), meta=np.ndarray>\n",
      "Attributes: (12/18)\n",
      "    Conventions:             CF-1.6\n",
      "    timeStamp:               2023-Mar-28 10:42:16 GMT\n",
      "    name:                    NEMO dataset\n",
      "    description:             Ocean grid variables, set on the proper positions\n",
      "    title:                   Ocean grid variables\n",
      "    DOMAIN_dimensions_ids:   [1 2]\n",
      "    ...                      ...\n",
      "    Iperio:                  0\n",
      "    Jperio:                  0\n",
      "    NFold:                   0\n",
      "    NFtype:                  -\n",
      "    VertCoord:               zco\n",
      "    IsfCav:                  0\n"
     ]
    }
   ],
   "source": [
    "ds = open_nemo_and_domain_cfg(nemo_files=datadir, domcfg_files=datadir)\n",
    "print(ds)"
   ]
  },
  {
   "cell_type": "code",
   "execution_count": 5,
   "id": "b4958894-950c-4150-a312-9b70a94c4387",
   "metadata": {
    "execution": {
     "iopub.execute_input": "2023-03-30T10:01:48.354909Z",
     "iopub.status.busy": "2023-03-30T10:01:48.354505Z",
     "iopub.status.idle": "2023-03-30T10:01:48.358750Z",
     "shell.execute_reply": "2023-03-30T10:01:48.358162Z"
    },
    "tags": []
   },
   "outputs": [
    {
     "name": "stdout",
     "output_type": "stream",
     "text": [
      "Help on function compute_missing_metrics in module xnemogcm.metrics:\n",
      "\n",
      "compute_missing_metrics(ds, all_scale_factors=['e3t', 'e3u', 'e3v', 'e3f', 'e3w', 'e3uw', 'e3vw', 'e3fw'], time_varying=True, periodic=False)\n",
      "    Add all possible scale factors to the dataset.\n",
      "    \n",
      "    For the moment, e3t (or e3t_0) at least needs to be present in the dataset\n",
      "    for the time_varying=True (time_varying=False) case.\n",
      "    If e3t_0 is not found (e.g. for nemo 3.6), it will raise a warning and use e3t_1d\n",
      "    (this will lead to wrong results if terrain-following coordinates are used).\n",
      "    \n",
      "    May have some boundary issues.\n",
      "    \n",
      "    Will add the metrics to the given dataset. To avoid this, use a ds.copy()\n",
      "    \n",
      "    Parameters\n",
      "    ----------\n",
      "    ds : xarray.Dataset\n",
      "        dataset containing the scale factors. Must be xgcm compatible (e.g. opened with xnemogcm)\n",
      "    all_scale_factors : list\n",
      "        list of the scale factors to compute (nothing is done for the scale factors\n",
      "        already present in *ds*)\n",
      "        Must be a sublist of: ['e3t', 'e3u', 'e3v', 'e3f', 'e3w', 'e3uw', 'e3vw', 'e3fw']\n",
      "    time_varying : bool\n",
      "        Whether to use the time varying scale factors (True) of the constant ones (False, 'e3x_0')\n",
      "    \n",
      "    Returns\n",
      "    -------\n",
      "    the new dataset with the scale factors added\n",
      "\n"
     ]
    }
   ],
   "source": [
    "help(compute_missing_metrics)"
   ]
  },
  {
   "cell_type": "code",
   "execution_count": 6,
   "id": "2f5c7a41-ad3d-43f0-baf0-6cfb4fbbb761",
   "metadata": {
    "execution": {
     "iopub.execute_input": "2023-03-30T10:01:48.361065Z",
     "iopub.status.busy": "2023-03-30T10:01:48.360757Z",
     "iopub.status.idle": "2023-03-30T10:01:48.413206Z",
     "shell.execute_reply": "2023-03-30T10:01:48.412490Z"
    },
    "tags": []
   },
   "outputs": [
    {
     "name": "stdout",
     "output_type": "stream",
     "text": [
      "<xarray.Dataset>\n",
      "Dimensions:               (z_c: 4, axis_nbounds: 2, t: 1, y_c: 22, x_c: 32,\n",
      "                           x_f: 32, y_f: 22, z_f: 4)\n",
      "Coordinates: (12/20)\n",
      "  * z_c                   (z_c) int64 0 1 2 3\n",
      "    time_centered         (t) object dask.array<chunksize=(1,), meta=np.ndarray>\n",
      "  * t                     (t) object 0001-07-01 00:00:00\n",
      "  * x_c                   (x_c) int64 0 1 2 3 4 5 6 7 ... 25 26 27 28 29 30 31\n",
      "  * y_c                   (y_c) int64 0 1 2 3 4 5 6 7 ... 15 16 17 18 19 20 21\n",
      "    gdept_1d              (z_c) float64 dask.array<chunksize=(4,), meta=np.ndarray>\n",
      "    ...                    ...\n",
      "    gphit                 (y_c, x_c) float64 dask.array<chunksize=(22, 32), meta=np.ndarray>\n",
      "    gphiu                 (y_c, x_f) float64 dask.array<chunksize=(22, 32), meta=np.ndarray>\n",
      "    gphiv                 (y_f, x_c) float64 dask.array<chunksize=(22, 32), meta=np.ndarray>\n",
      "    gphif                 (y_f, x_f) float64 dask.array<chunksize=(22, 32), meta=np.ndarray>\n",
      "    gdept_0               (z_c, y_c, x_c) float64 dask.array<chunksize=(4, 22, 32), meta=np.ndarray>\n",
      "    gdepw_0               (z_f, y_c, x_c) float64 dask.array<chunksize=(4, 22, 32), meta=np.ndarray>\n",
      "Dimensions without coordinates: axis_nbounds\n",
      "Data variables: (12/47)\n",
      "    deptht_bounds         (z_c, axis_nbounds) float32 dask.array<chunksize=(4, 2), meta=np.ndarray>\n",
      "    time_centered_bounds  (t, axis_nbounds) object dask.array<chunksize=(1, 2), meta=np.ndarray>\n",
      "    t_bounds              (t, axis_nbounds) object dask.array<chunksize=(1, 2), meta=np.ndarray>\n",
      "    toce                  (t, z_c, y_c, x_c) float32 dask.array<chunksize=(1, 4, 22, 32), meta=np.ndarray>\n",
      "    soce                  (t, z_c, y_c, x_c) float32 dask.array<chunksize=(1, 4, 22, 32), meta=np.ndarray>\n",
      "    e3t                   (t, z_c, y_c, x_c) float32 dask.array<chunksize=(1, 4, 22, 32), meta=np.ndarray>\n",
      "    ...                    ...\n",
      "    e3uw_0                (z_f, y_c, x_f) float64 dask.array<chunksize=(4, 22, 32), meta=np.ndarray>\n",
      "    e3vw_0                (z_f, y_f, x_c) float64 dask.array<chunksize=(4, 22, 32), meta=np.ndarray>\n",
      "    e3f                   (t, z_c, y_f, x_f) float32 dask.array<chunksize=(1, 4, 21, 31), meta=np.ndarray>\n",
      "    e3uw                  (t, z_f, y_c, x_f) float32 dask.array<chunksize=(1, 4, 22, 31), meta=np.ndarray>\n",
      "    e3vw                  (t, z_f, y_f, x_c) float32 dask.array<chunksize=(1, 4, 21, 32), meta=np.ndarray>\n",
      "    e3fw                  (t, z_f, y_f, x_f) float32 dask.array<chunksize=(1, 4, 21, 31), meta=np.ndarray>\n",
      "Attributes: (12/18)\n",
      "    Conventions:             CF-1.6\n",
      "    timeStamp:               2023-Mar-28 10:42:16 GMT\n",
      "    name:                    NEMO dataset\n",
      "    description:             Ocean grid variables, set on the proper positions\n",
      "    title:                   Ocean grid variables\n",
      "    DOMAIN_dimensions_ids:   [1 2]\n",
      "    ...                      ...\n",
      "    Iperio:                  0\n",
      "    Jperio:                  0\n",
      "    NFold:                   0\n",
      "    NFtype:                  -\n",
      "    VertCoord:               zco\n",
      "    IsfCav:                  0\n"
     ]
    },
    {
     "name": "stderr",
     "output_type": "stream",
     "text": [
      "/home/runner/work/xnemogcm/xnemogcm/xnemogcm/metrics.py:63: UserWarning: This function is in pre-phase. Do not expect a high precision, but a good estimate. Some boundary issues may arise.\n",
      "  warn(\n"
     ]
    }
   ],
   "source": [
    "# If you just want to get a copy\n",
    "print(\n",
    "    compute_missing_metrics(ds.copy())\n",
    ")"
   ]
  },
  {
   "cell_type": "code",
   "execution_count": 7,
   "id": "613b9c7a-724b-4185-856e-70cb9e5364d2",
   "metadata": {
    "execution": {
     "iopub.execute_input": "2023-03-30T10:01:48.416489Z",
     "iopub.status.busy": "2023-03-30T10:01:48.415988Z",
     "iopub.status.idle": "2023-03-30T10:01:48.458947Z",
     "shell.execute_reply": "2023-03-30T10:01:48.458277Z"
    },
    "tags": []
   },
   "outputs": [
    {
     "name": "stdout",
     "output_type": "stream",
     "text": [
      "<xarray.Dataset>\n",
      "Dimensions:               (z_c: 4, axis_nbounds: 2, t: 1, y_c: 22, x_c: 32,\n",
      "                           x_f: 32, y_f: 22, z_f: 4)\n",
      "Coordinates: (12/20)\n",
      "  * z_c                   (z_c) int64 0 1 2 3\n",
      "    time_centered         (t) object dask.array<chunksize=(1,), meta=np.ndarray>\n",
      "  * t                     (t) object 0001-07-01 00:00:00\n",
      "  * x_c                   (x_c) int64 0 1 2 3 4 5 6 7 ... 25 26 27 28 29 30 31\n",
      "  * y_c                   (y_c) int64 0 1 2 3 4 5 6 7 ... 15 16 17 18 19 20 21\n",
      "    gdept_1d              (z_c) float64 dask.array<chunksize=(4,), meta=np.ndarray>\n",
      "    ...                    ...\n",
      "    gphit                 (y_c, x_c) float64 dask.array<chunksize=(22, 32), meta=np.ndarray>\n",
      "    gphiu                 (y_c, x_f) float64 dask.array<chunksize=(22, 32), meta=np.ndarray>\n",
      "    gphiv                 (y_f, x_c) float64 dask.array<chunksize=(22, 32), meta=np.ndarray>\n",
      "    gphif                 (y_f, x_f) float64 dask.array<chunksize=(22, 32), meta=np.ndarray>\n",
      "    gdept_0               (z_c, y_c, x_c) float64 dask.array<chunksize=(4, 22, 32), meta=np.ndarray>\n",
      "    gdepw_0               (z_f, y_c, x_c) float64 dask.array<chunksize=(4, 22, 32), meta=np.ndarray>\n",
      "Dimensions without coordinates: axis_nbounds\n",
      "Data variables: (12/47)\n",
      "    deptht_bounds         (z_c, axis_nbounds) float32 dask.array<chunksize=(4, 2), meta=np.ndarray>\n",
      "    time_centered_bounds  (t, axis_nbounds) object dask.array<chunksize=(1, 2), meta=np.ndarray>\n",
      "    t_bounds              (t, axis_nbounds) object dask.array<chunksize=(1, 2), meta=np.ndarray>\n",
      "    toce                  (t, z_c, y_c, x_c) float32 dask.array<chunksize=(1, 4, 22, 32), meta=np.ndarray>\n",
      "    soce                  (t, z_c, y_c, x_c) float32 dask.array<chunksize=(1, 4, 22, 32), meta=np.ndarray>\n",
      "    e3t                   (t, z_c, y_c, x_c) float32 dask.array<chunksize=(1, 4, 22, 32), meta=np.ndarray>\n",
      "    ...                    ...\n",
      "    e3uw_0                (z_f, y_c, x_f) float64 dask.array<chunksize=(4, 22, 32), meta=np.ndarray>\n",
      "    e3vw_0                (z_f, y_f, x_c) float64 dask.array<chunksize=(4, 22, 32), meta=np.ndarray>\n",
      "    e3f                   (t, z_c, y_f, x_f) float32 dask.array<chunksize=(1, 4, 21, 31), meta=np.ndarray>\n",
      "    e3uw                  (t, z_f, y_c, x_f) float32 dask.array<chunksize=(1, 4, 22, 31), meta=np.ndarray>\n",
      "    e3vw                  (t, z_f, y_f, x_c) float32 dask.array<chunksize=(1, 4, 21, 32), meta=np.ndarray>\n",
      "    e3fw                  (t, z_f, y_f, x_f) float32 dask.array<chunksize=(1, 4, 21, 31), meta=np.ndarray>\n",
      "Attributes: (12/18)\n",
      "    Conventions:             CF-1.6\n",
      "    timeStamp:               2023-Mar-28 10:42:16 GMT\n",
      "    name:                    NEMO dataset\n",
      "    description:             Ocean grid variables, set on the proper positions\n",
      "    title:                   Ocean grid variables\n",
      "    DOMAIN_dimensions_ids:   [1 2]\n",
      "    ...                      ...\n",
      "    Iperio:                  0\n",
      "    Jperio:                  0\n",
      "    NFold:                   0\n",
      "    NFtype:                  -\n",
      "    VertCoord:               zco\n",
      "    IsfCav:                  0\n"
     ]
    },
    {
     "name": "stderr",
     "output_type": "stream",
     "text": [
      "/home/runner/work/xnemogcm/xnemogcm/xnemogcm/metrics.py:63: UserWarning: This function is in pre-phase. Do not expect a high precision, but a good estimate. Some boundary issues may arise.\n",
      "  warn(\n"
     ]
    }
   ],
   "source": [
    "# If you just want to add the scale factor inplace\n",
    "compute_missing_metrics(ds)\n",
    "print(ds)"
   ]
  },
  {
   "cell_type": "markdown",
   "id": "651306d8-2f5c-4c64-9942-461e04756e0c",
   "metadata": {},
   "source": [
    "It is also possible to compute the time constant metrics, i.e. the e3x_0"
   ]
  },
  {
   "cell_type": "code",
   "execution_count": 8,
   "id": "aa9bc4a4-8194-4cc5-9bcf-c7cd08bf7cd1",
   "metadata": {
    "execution": {
     "iopub.execute_input": "2023-03-30T10:01:48.463286Z",
     "iopub.status.busy": "2023-03-30T10:01:48.462867Z",
     "iopub.status.idle": "2023-03-30T10:01:48.484209Z",
     "shell.execute_reply": "2023-03-30T10:01:48.483581Z"
    },
    "tags": []
   },
   "outputs": [
    {
     "name": "stdout",
     "output_type": "stream",
     "text": [
      "<xarray.Dataset>\n",
      "Dimensions:               (z_c: 4, axis_nbounds: 2, t: 1, y_c: 22, x_c: 32,\n",
      "                           x_f: 32, y_f: 22, z_f: 4)\n",
      "Coordinates: (12/20)\n",
      "  * z_c                   (z_c) int64 0 1 2 3\n",
      "    time_centered         (t) object dask.array<chunksize=(1,), meta=np.ndarray>\n",
      "  * t                     (t) object 0001-07-01 00:00:00\n",
      "  * x_c                   (x_c) int64 0 1 2 3 4 5 6 7 ... 25 26 27 28 29 30 31\n",
      "  * y_c                   (y_c) int64 0 1 2 3 4 5 6 7 ... 15 16 17 18 19 20 21\n",
      "    gdept_1d              (z_c) float64 dask.array<chunksize=(4,), meta=np.ndarray>\n",
      "    ...                    ...\n",
      "    gphit                 (y_c, x_c) float64 dask.array<chunksize=(22, 32), meta=np.ndarray>\n",
      "    gphiu                 (y_c, x_f) float64 dask.array<chunksize=(22, 32), meta=np.ndarray>\n",
      "    gphiv                 (y_f, x_c) float64 dask.array<chunksize=(22, 32), meta=np.ndarray>\n",
      "    gphif                 (y_f, x_f) float64 dask.array<chunksize=(22, 32), meta=np.ndarray>\n",
      "    gdept_0               (z_c, y_c, x_c) float64 dask.array<chunksize=(4, 22, 32), meta=np.ndarray>\n",
      "    gdepw_0               (z_f, y_c, x_c) float64 dask.array<chunksize=(4, 22, 32), meta=np.ndarray>\n",
      "Dimensions without coordinates: axis_nbounds\n",
      "Data variables: (12/48)\n",
      "    deptht_bounds         (z_c, axis_nbounds) float32 dask.array<chunksize=(4, 2), meta=np.ndarray>\n",
      "    time_centered_bounds  (t, axis_nbounds) object dask.array<chunksize=(1, 2), meta=np.ndarray>\n",
      "    t_bounds              (t, axis_nbounds) object dask.array<chunksize=(1, 2), meta=np.ndarray>\n",
      "    toce                  (t, z_c, y_c, x_c) float32 dask.array<chunksize=(1, 4, 22, 32), meta=np.ndarray>\n",
      "    soce                  (t, z_c, y_c, x_c) float32 dask.array<chunksize=(1, 4, 22, 32), meta=np.ndarray>\n",
      "    e3t                   (t, z_c, y_c, x_c) float32 dask.array<chunksize=(1, 4, 22, 32), meta=np.ndarray>\n",
      "    ...                    ...\n",
      "    e3vw_0                (z_f, y_f, x_c) float64 dask.array<chunksize=(4, 22, 32), meta=np.ndarray>\n",
      "    e3f                   (t, z_c, y_f, x_f) float32 dask.array<chunksize=(1, 4, 21, 31), meta=np.ndarray>\n",
      "    e3uw                  (t, z_f, y_c, x_f) float32 dask.array<chunksize=(1, 4, 22, 31), meta=np.ndarray>\n",
      "    e3vw                  (t, z_f, y_f, x_c) float32 dask.array<chunksize=(1, 4, 21, 32), meta=np.ndarray>\n",
      "    e3fw                  (t, z_f, y_f, x_f) float32 dask.array<chunksize=(1, 4, 21, 31), meta=np.ndarray>\n",
      "    e3fw_0                (z_f, y_f, x_f) float64 dask.array<chunksize=(4, 21, 31), meta=np.ndarray>\n",
      "Attributes: (12/18)\n",
      "    Conventions:             CF-1.6\n",
      "    timeStamp:               2023-Mar-28 10:42:16 GMT\n",
      "    name:                    NEMO dataset\n",
      "    description:             Ocean grid variables, set on the proper positions\n",
      "    title:                   Ocean grid variables\n",
      "    DOMAIN_dimensions_ids:   [1 2]\n",
      "    ...                      ...\n",
      "    Iperio:                  0\n",
      "    Jperio:                  0\n",
      "    NFold:                   0\n",
      "    NFtype:                  -\n",
      "    VertCoord:               zco\n",
      "    IsfCav:                  0\n"
     ]
    },
    {
     "name": "stderr",
     "output_type": "stream",
     "text": [
      "/home/runner/work/xnemogcm/xnemogcm/xnemogcm/metrics.py:63: UserWarning: This function is in pre-phase. Do not expect a high precision, but a good estimate. Some boundary issues may arise.\n",
      "  warn(\n"
     ]
    }
   ],
   "source": [
    "print(\n",
    "    compute_missing_metrics(ds.copy(), time_varying=False)\n",
    ")"
   ]
  },
  {
   "cell_type": "markdown",
   "id": "69e30349-cbf9-45cb-bd53-6b2123d6c9c2",
   "metadata": {},
   "source": [
    "And it is possible to only compute a subset of the possible metrics"
   ]
  },
  {
   "cell_type": "code",
   "execution_count": 9,
   "id": "b190b080-d2ad-444e-b25f-429ae51028fc",
   "metadata": {
    "execution": {
     "iopub.execute_input": "2023-03-30T10:01:48.486941Z",
     "iopub.status.busy": "2023-03-30T10:01:48.486479Z",
     "iopub.status.idle": "2023-03-30T10:01:48.555069Z",
     "shell.execute_reply": "2023-03-30T10:01:48.554446Z"
    },
    "tags": []
   },
   "outputs": [
    {
     "name": "stdout",
     "output_type": "stream",
     "text": [
      "<xarray.Dataset>\n",
      "Dimensions:               (z_c: 4, axis_nbounds: 2, t: 1, y_c: 22, x_c: 32,\n",
      "                           x_f: 32, y_f: 22, z_f: 4)\n",
      "Coordinates: (12/20)\n",
      "  * z_c                   (z_c) int64 0 1 2 3\n",
      "    time_centered         (t) object dask.array<chunksize=(1,), meta=np.ndarray>\n",
      "  * t                     (t) object 0001-07-01 00:00:00\n",
      "  * x_c                   (x_c) int64 0 1 2 3 4 5 6 7 ... 25 26 27 28 29 30 31\n",
      "  * y_c                   (y_c) int64 0 1 2 3 4 5 6 7 ... 15 16 17 18 19 20 21\n",
      "    gdept_1d              (z_c) float64 dask.array<chunksize=(4,), meta=np.ndarray>\n",
      "    ...                    ...\n",
      "    gphit                 (y_c, x_c) float64 dask.array<chunksize=(22, 32), meta=np.ndarray>\n",
      "    gphiu                 (y_c, x_f) float64 dask.array<chunksize=(22, 32), meta=np.ndarray>\n",
      "    gphiv                 (y_f, x_c) float64 dask.array<chunksize=(22, 32), meta=np.ndarray>\n",
      "    gphif                 (y_f, x_f) float64 dask.array<chunksize=(22, 32), meta=np.ndarray>\n",
      "    gdept_0               (z_c, y_c, x_c) float64 dask.array<chunksize=(4, 22, 32), meta=np.ndarray>\n",
      "    gdepw_0               (z_f, y_c, x_c) float64 dask.array<chunksize=(4, 22, 32), meta=np.ndarray>\n",
      "Dimensions without coordinates: axis_nbounds\n",
      "Data variables: (12/44)\n",
      "    deptht_bounds         (z_c, axis_nbounds) float32 dask.array<chunksize=(4, 2), meta=np.ndarray>\n",
      "    time_centered_bounds  (t, axis_nbounds) object dask.array<chunksize=(1, 2), meta=np.ndarray>\n",
      "    t_bounds              (t, axis_nbounds) object dask.array<chunksize=(1, 2), meta=np.ndarray>\n",
      "    toce                  (t, z_c, y_c, x_c) float32 dask.array<chunksize=(1, 4, 22, 32), meta=np.ndarray>\n",
      "    soce                  (t, z_c, y_c, x_c) float32 dask.array<chunksize=(1, 4, 22, 32), meta=np.ndarray>\n",
      "    e3t                   (t, z_c, y_c, x_c) float32 dask.array<chunksize=(1, 4, 22, 32), meta=np.ndarray>\n",
      "    ...                    ...\n",
      "    e3uw_0                (z_f, y_c, x_f) float64 dask.array<chunksize=(4, 22, 32), meta=np.ndarray>\n",
      "    e3vw_0                (z_f, y_f, x_c) float64 dask.array<chunksize=(4, 22, 32), meta=np.ndarray>\n",
      "    e3uw                  (t, z_f, y_c, x_f) float32 dask.array<chunksize=(1, 4, 22, 31), meta=np.ndarray>\n",
      "    e3vw                  (t, z_f, y_f, x_c) float32 dask.array<chunksize=(1, 4, 21, 32), meta=np.ndarray>\n",
      "    e3fw                  (t, z_f, y_f, x_f) float32 dask.array<chunksize=(1, 4, 21, 31), meta=np.ndarray>\n",
      "    e3u                   (t, z_c, y_c, x_f) float32 dask.array<chunksize=(1, 4, 22, 31), meta=np.ndarray>\n",
      "Attributes: (12/18)\n",
      "    Conventions:             CF-1.6\n",
      "    timeStamp:               2023-Mar-28 10:42:16 GMT\n",
      "    name:                    NEMO dataset\n",
      "    description:             Ocean grid variables, set on the proper positions\n",
      "    title:                   Ocean grid variables\n",
      "    DOMAIN_dimensions_ids:   [1 2]\n",
      "    ...                      ...\n",
      "    Iperio:                  0\n",
      "    Jperio:                  0\n",
      "    NFold:                   0\n",
      "    NFtype:                  -\n",
      "    VertCoord:               zco\n",
      "    IsfCav:                  0\n"
     ]
    },
    {
     "name": "stderr",
     "output_type": "stream",
     "text": [
      "/home/runner/work/xnemogcm/xnemogcm/xnemogcm/metrics.py:63: UserWarning: This function is in pre-phase. Do not expect a high precision, but a good estimate. Some boundary issues may arise.\n",
      "  warn(\n"
     ]
    }
   ],
   "source": [
    "print(\n",
    "    compute_missing_metrics(ds.drop_vars(['e3u', 'e3v', 'e3f', 'e3w']).copy(), all_scale_factors=['e3u'])\n",
    ")"
   ]
  }
 ],
 "metadata": {
  "kernelspec": {
   "display_name": "Python 3 (ipykernel)",
   "language": "python",
   "name": "python3"
  },
  "language_info": {
   "codemirror_mode": {
    "name": "ipython",
    "version": 3
   },
   "file_extension": ".py",
   "mimetype": "text/x-python",
   "name": "python",
   "nbconvert_exporter": "python",
   "pygments_lexer": "ipython3",
   "version": "3.11.2"
  }
 },
 "nbformat": 4,
 "nbformat_minor": 5
}
